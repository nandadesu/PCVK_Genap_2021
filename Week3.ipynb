{
  "nbformat": 4,
  "nbformat_minor": 0,
  "metadata": {
    "colab": {
      "name": "Week3.ipynb",
      "provenance": [],
      "authorship_tag": "ABX9TyMNm8VO+5g54wU7MdGZTS3L",
      "include_colab_link": true
    },
    "kernelspec": {
      "name": "python3",
      "display_name": "Python 3"
    }
  },
  "cells": [
    {
      "cell_type": "markdown",
      "metadata": {
        "id": "view-in-github",
        "colab_type": "text"
      },
      "source": [
        "<a href=\"https://colab.research.google.com/github/nandadesu/PCVK_Genap_2021/blob/main/Week3.ipynb\" target=\"_parent\"><img src=\"https://colab.research.google.com/assets/colab-badge.svg\" alt=\"Open In Colab\"/></a>"
      ]
    },
    {
      "cell_type": "markdown",
      "metadata": {
        "id": "FNTiGivOnVps"
      },
      "source": [
        "# **PRAKTIKUM**"
      ]
    },
    {
      "cell_type": "code",
      "metadata": {
        "id": "hC9nFCmOkDmz",
        "colab": {
          "base_uri": "https://localhost:8080/"
        },
        "outputId": "3cc03c83-74f5-4cdc-c00d-ef708d660613"
      },
      "source": [
        "from google.colab import drive\r\n",
        "\r\n",
        "drive.mount('/content/drive')\r\n"
      ],
      "execution_count": 1,
      "outputs": [
        {
          "output_type": "stream",
          "text": [
            "Mounted at /content/drive\n"
          ],
          "name": "stdout"
        }
      ]
    },
    {
      "cell_type": "code",
      "metadata": {
        "id": "2q1GFU2OnG4j"
      },
      "source": [
        "print(' Mengubah tingkat kecerahan citra ')\r\n",
        "print(' -------------------------------- ')\r\n",
        "try:\r\n",
        "  brightness = int(input('Masukkan nilai kecerahan: '))\r\n",
        "except ValueError:\r\n",
        "  print('Error, not a number')\r\n",
        "\r\n",
        "original = cv.imread('/content/drive/MyDrive/PunkBuster.jpg')\r\n",
        "brightness_image = np.zeros(original.shape, original.dtype)\r\n",
        "\r\n",
        "#Akses per pixel\r\n",
        "for y in range(original.shape[0]):\r\n",
        "  for x in range(original.shape[1]):\r\n",
        "    for c in range(original.shape[2])"
      ],
      "execution_count": null,
      "outputs": []
    }
  ]
}